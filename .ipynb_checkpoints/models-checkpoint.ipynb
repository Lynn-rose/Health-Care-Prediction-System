{
 "cells": [
  {
   "cell_type": "markdown",
   "metadata": {},
   "source": [
    "## Modeling\n",
    "\n",
    "We begin by importing necessary libraries"
   ]
  },
  {
   "cell_type": "code",
   "execution_count": 1,
   "metadata": {},
   "outputs": [],
   "source": [
    "from sklearn.compose import ColumnTransformer\n",
    "from sklearn.preprocessing import OneHotEncoder\n",
    "from sklearn.discriminant_analysis import StandardScaler\n",
    "from sklearn.pipeline import Pipeline\n",
    "from sklearn.linear_model import LinearRegression\n",
    "from sklearn.ensemble import RandomForestRegressor\n",
    "from sklearn.metrics import accuracy_score, confusion_matrix, classification_report\n",
    "from sklearn.ensemble import RandomForestClassifier\n",
    "from sklearn.linear_model import LogisticRegression\n",
    "from sklearn.calibration import LabelEncoder\n",
    "import warnings\n",
    "import pickle\n",
    "import scipy.stats as stats\n",
    "import pandas as pd\n",
    "import numpy as np\n",
    "import seaborn as sns\n",
    "import matplotlib.pyplot as plt\n",
    "%matplotlib inline\n",
    "import df_helper\n",
    "\n",
    "dfh = df_helper.df_helper()"
   ]
  },
  {
   "cell_type": "markdown",
   "metadata": {},
   "source": [
    "### Inspecting the data"
   ]
  },
  {
   "cell_type": "code",
   "execution_count": 2,
   "metadata": {},
   "outputs": [
    {
     "data": {
      "text/html": [
       "<div>\n",
       "<style scoped>\n",
       "    .dataframe tbody tr th:only-of-type {\n",
       "        vertical-align: middle;\n",
       "    }\n",
       "\n",
       "    .dataframe tbody tr th {\n",
       "        vertical-align: top;\n",
       "    }\n",
       "\n",
       "    .dataframe thead th {\n",
       "        text-align: right;\n",
       "    }\n",
       "</style>\n",
       "<table border=\"1\" class=\"dataframe\">\n",
       "  <thead>\n",
       "    <tr style=\"text-align: right;\">\n",
       "      <th></th>\n",
       "      <th>drug</th>\n",
       "      <th>age</th>\n",
       "      <th>diagnosis</th>\n",
       "      <th>gender</th>\n",
       "      <th>admission_type</th>\n",
       "      <th>admission_location</th>\n",
       "      <th>insurance</th>\n",
       "      <th>marital_status</th>\n",
       "      <th>race</th>\n",
       "      <th>bmi</th>\n",
       "      <th>height</th>\n",
       "      <th>weight</th>\n",
       "      <th>bp_systolic</th>\n",
       "      <th>bp_diastolic</th>\n",
       "      <th>died</th>\n",
       "      <th>length_of_stay</th>\n",
       "    </tr>\n",
       "  </thead>\n",
       "  <tbody>\n",
       "    <tr>\n",
       "      <th>0</th>\n",
       "      <td>Fentanyl Citrate</td>\n",
       "      <td>71</td>\n",
       "      <td>Urinary tract infection, site not specified</td>\n",
       "      <td>F</td>\n",
       "      <td>EW EMER.</td>\n",
       "      <td>EMERGENCY ROOM</td>\n",
       "      <td>Other</td>\n",
       "      <td>SINGLE</td>\n",
       "      <td>WHITE</td>\n",
       "      <td>27.7</td>\n",
       "      <td>1.59</td>\n",
       "      <td>69.17</td>\n",
       "      <td>128.0</td>\n",
       "      <td>80.0</td>\n",
       "      <td>False</td>\n",
       "      <td>21</td>\n",
       "    </tr>\n",
       "    <tr>\n",
       "      <th>1</th>\n",
       "      <td>Fentanyl Citrate</td>\n",
       "      <td>71</td>\n",
       "      <td>Acute respiratory failure</td>\n",
       "      <td>F</td>\n",
       "      <td>EW EMER.</td>\n",
       "      <td>EMERGENCY ROOM</td>\n",
       "      <td>Other</td>\n",
       "      <td>SINGLE</td>\n",
       "      <td>WHITE</td>\n",
       "      <td>27.7</td>\n",
       "      <td>1.59</td>\n",
       "      <td>69.17</td>\n",
       "      <td>128.0</td>\n",
       "      <td>80.0</td>\n",
       "      <td>False</td>\n",
       "      <td>21</td>\n",
       "    </tr>\n",
       "    <tr>\n",
       "      <th>2</th>\n",
       "      <td>Fentanyl Citrate</td>\n",
       "      <td>71</td>\n",
       "      <td>Asthma, unspecified type, unspecified</td>\n",
       "      <td>F</td>\n",
       "      <td>EW EMER.</td>\n",
       "      <td>EMERGENCY ROOM</td>\n",
       "      <td>Other</td>\n",
       "      <td>SINGLE</td>\n",
       "      <td>WHITE</td>\n",
       "      <td>27.7</td>\n",
       "      <td>1.59</td>\n",
       "      <td>69.17</td>\n",
       "      <td>128.0</td>\n",
       "      <td>80.0</td>\n",
       "      <td>False</td>\n",
       "      <td>21</td>\n",
       "    </tr>\n",
       "    <tr>\n",
       "      <th>3</th>\n",
       "      <td>Fentanyl Citrate</td>\n",
       "      <td>71</td>\n",
       "      <td>Solitary pulmonary nodule</td>\n",
       "      <td>F</td>\n",
       "      <td>EW EMER.</td>\n",
       "      <td>EMERGENCY ROOM</td>\n",
       "      <td>Other</td>\n",
       "      <td>SINGLE</td>\n",
       "      <td>WHITE</td>\n",
       "      <td>27.7</td>\n",
       "      <td>1.59</td>\n",
       "      <td>69.17</td>\n",
       "      <td>128.0</td>\n",
       "      <td>80.0</td>\n",
       "      <td>False</td>\n",
       "      <td>21</td>\n",
       "    </tr>\n",
       "    <tr>\n",
       "      <th>4</th>\n",
       "      <td>Fentanyl Citrate</td>\n",
       "      <td>71</td>\n",
       "      <td>Streptococcus infection in conditions classifi...</td>\n",
       "      <td>F</td>\n",
       "      <td>EW EMER.</td>\n",
       "      <td>EMERGENCY ROOM</td>\n",
       "      <td>Other</td>\n",
       "      <td>SINGLE</td>\n",
       "      <td>WHITE</td>\n",
       "      <td>27.7</td>\n",
       "      <td>1.59</td>\n",
       "      <td>69.17</td>\n",
       "      <td>128.0</td>\n",
       "      <td>80.0</td>\n",
       "      <td>False</td>\n",
       "      <td>21</td>\n",
       "    </tr>\n",
       "  </tbody>\n",
       "</table>\n",
       "</div>"
      ],
      "text/plain": [
       "               drug  age                                          diagnosis  \\\n",
       "0  Fentanyl Citrate   71        Urinary tract infection, site not specified   \n",
       "1  Fentanyl Citrate   71                          Acute respiratory failure   \n",
       "2  Fentanyl Citrate   71              Asthma, unspecified type, unspecified   \n",
       "3  Fentanyl Citrate   71                          Solitary pulmonary nodule   \n",
       "4  Fentanyl Citrate   71  Streptococcus infection in conditions classifi...   \n",
       "\n",
       "  gender admission_type admission_location insurance marital_status   race  \\\n",
       "0      F       EW EMER.     EMERGENCY ROOM     Other         SINGLE  WHITE   \n",
       "1      F       EW EMER.     EMERGENCY ROOM     Other         SINGLE  WHITE   \n",
       "2      F       EW EMER.     EMERGENCY ROOM     Other         SINGLE  WHITE   \n",
       "3      F       EW EMER.     EMERGENCY ROOM     Other         SINGLE  WHITE   \n",
       "4      F       EW EMER.     EMERGENCY ROOM     Other         SINGLE  WHITE   \n",
       "\n",
       "    bmi  height  weight  bp_systolic  bp_diastolic   died  length_of_stay  \n",
       "0  27.7    1.59   69.17        128.0          80.0  False              21  \n",
       "1  27.7    1.59   69.17        128.0          80.0  False              21  \n",
       "2  27.7    1.59   69.17        128.0          80.0  False              21  \n",
       "3  27.7    1.59   69.17        128.0          80.0  False              21  \n",
       "4  27.7    1.59   69.17        128.0          80.0  False              21  "
      ]
     },
     "execution_count": 2,
     "metadata": {},
     "output_type": "execute_result"
    }
   ],
   "source": [
    "model_df = pd.read_csv(\"data/cleaned_data.csv\")\n",
    "dfh.drop_columns(\n",
    "    model_df,[\n",
    "        \"subject_id\",\n",
    "        \"hadm_id\",\n",
    "        \"drug_type\",\n",
    "        \"admittime\",\n",
    "        \"dischtime\",\n",
    "        \"language\",\n",
    "])\n",
    "#convert bmi column to numeric\n",
    "model_df.bmi = model_df.bmi.astype(float)\n",
    "\n",
    "\n",
    "model_df.head()"
   ]
  },
  {
   "cell_type": "markdown",
   "metadata": {},
   "source": [
    "Next we check for correlations between numerical features"
   ]
  },
  {
   "cell_type": "code",
   "execution_count": 3,
   "metadata": {},
   "outputs": [
    {
     "data": {
      "image/png": "[encoded data removed]",
      "text/plain": [
       "<Figure size 720x360 with 2 Axes>"
      ]
     },
     "metadata": {
      "needs_background": "light"
     },
     "output_type": "display_data"
    }
   ],
   "source": [
    "correlations_matrix = model_df[dfh.numerical_columns(model_df)].corr(method='spearman') \n",
    "correlations_matrix=round(correlations_matrix.corr(),2)\n",
    "\n",
    "mask = np.zeros_like(correlations_matrix)\n",
    "mask[np.triu_indices_from(mask)] = True\n",
    "fig, map = plt.subplots(figsize=(10, 5))\n",
    "map = sns.heatmap(correlations_matrix, mask=mask, annot=True, cmap='viridis')\n",
    "plt.title('Correlation Matrix')\n",
    "plt.show()"
   ]
  },
  {
   "cell_type": "markdown",
   "metadata": {},
   "source": [
    "**Observations**\n",
    "- The correlation between weight and BMI is very strong. Drop BMI in favour of weight.\n",
    "- Height and weight are highly correlated. Drop height in favour of weight."
   ]
  },
  {
   "cell_type": "code",
   "execution_count": 4,
   "metadata": {},
   "outputs": [
    {
     "name": "stdout",
     "output_type": "stream",
     "text": [
      "<class 'pandas.core.frame.DataFrame'>\n",
      "RangeIndex: 1025833 entries, 0 to 1025832\n",
      "Data columns (total 14 columns):\n",
      " #   Column              Non-Null Count    Dtype  \n",
      "---  ------              --------------    -----  \n",
      " 0   drug                1025833 non-null  object \n",
      " 1   age                 1025833 non-null  int64  \n",
      " 2   diagnosis           1025833 non-null  object \n",
      " 3   gender              1025833 non-null  object \n",
      " 4   admission_type      1025833 non-null  object \n",
      " 5   admission_location  1025833 non-null  object \n",
      " 6   insurance           1025833 non-null  object \n",
      " 7   marital_status      1025833 non-null  object \n",
      " 8   race                1025833 non-null  object \n",
      " 9   weight              1025833 non-null  float64\n",
      " 10  bp_systolic         1025833 non-null  float64\n",
      " 11  bp_diastolic        1025833 non-null  float64\n",
      " 12  died                1025833 non-null  bool   \n",
      " 13  length_of_stay      1025833 non-null  int64  \n",
      "dtypes: bool(1), float64(3), int64(2), object(8)\n",
      "memory usage: 102.7+ MB\n",
      "None\n"
     ]
    },
    {
     "data": {
      "text/html": [
       "<div>\n",
       "<style scoped>\n",
       "    .dataframe tbody tr th:only-of-type {\n",
       "        vertical-align: middle;\n",
       "    }\n",
       "\n",
       "    .dataframe tbody tr th {\n",
       "        vertical-align: top;\n",
       "    }\n",
       "\n",
       "    .dataframe thead th {\n",
       "        text-align: right;\n",
       "    }\n",
       "</style>\n",
       "<table border=\"1\" class=\"dataframe\">\n",
       "  <thead>\n",
       "    <tr style=\"text-align: right;\">\n",
       "      <th></th>\n",
       "      <th>drug</th>\n",
       "      <th>age</th>\n",
       "      <th>diagnosis</th>\n",
       "      <th>gender</th>\n",
       "      <th>admission_type</th>\n",
       "      <th>admission_location</th>\n",
       "      <th>insurance</th>\n",
       "      <th>marital_status</th>\n",
       "      <th>race</th>\n",
       "      <th>weight</th>\n",
       "      <th>bp_systolic</th>\n",
       "      <th>bp_diastolic</th>\n",
       "      <th>died</th>\n",
       "      <th>length_of_stay</th>\n",
       "    </tr>\n",
       "  </thead>\n",
       "  <tbody>\n",
       "    <tr>\n",
       "      <th>0</th>\n",
       "      <td>Fentanyl Citrate</td>\n",
       "      <td>71</td>\n",
       "      <td>Urinary tract infection, site not specified</td>\n",
       "      <td>F</td>\n",
       "      <td>EW EMER.</td>\n",
       "      <td>EMERGENCY ROOM</td>\n",
       "      <td>Other</td>\n",
       "      <td>SINGLE</td>\n",
       "      <td>WHITE</td>\n",
       "      <td>69.17</td>\n",
       "      <td>128.0</td>\n",
       "      <td>80.0</td>\n",
       "      <td>False</td>\n",
       "      <td>21</td>\n",
       "    </tr>\n",
       "    <tr>\n",
       "      <th>1</th>\n",
       "      <td>Fentanyl Citrate</td>\n",
       "      <td>71</td>\n",
       "      <td>Acute respiratory failure</td>\n",
       "      <td>F</td>\n",
       "      <td>EW EMER.</td>\n",
       "      <td>EMERGENCY ROOM</td>\n",
       "      <td>Other</td>\n",
       "      <td>SINGLE</td>\n",
       "      <td>WHITE</td>\n",
       "      <td>69.17</td>\n",
       "      <td>128.0</td>\n",
       "      <td>80.0</td>\n",
       "      <td>False</td>\n",
       "      <td>21</td>\n",
       "    </tr>\n",
       "    <tr>\n",
       "      <th>2</th>\n",
       "      <td>Fentanyl Citrate</td>\n",
       "      <td>71</td>\n",
       "      <td>Asthma, unspecified type, unspecified</td>\n",
       "      <td>F</td>\n",
       "      <td>EW EMER.</td>\n",
       "      <td>EMERGENCY ROOM</td>\n",
       "      <td>Other</td>\n",
       "      <td>SINGLE</td>\n",
       "      <td>WHITE</td>\n",
       "      <td>69.17</td>\n",
       "      <td>128.0</td>\n",
       "      <td>80.0</td>\n",
       "      <td>False</td>\n",
       "      <td>21</td>\n",
       "    </tr>\n",
       "    <tr>\n",
       "      <th>3</th>\n",
       "      <td>Fentanyl Citrate</td>\n",
       "      <td>71</td>\n",
       "      <td>Solitary pulmonary nodule</td>\n",
       "      <td>F</td>\n",
       "      <td>EW EMER.</td>\n",
       "      <td>EMERGENCY ROOM</td>\n",
       "      <td>Other</td>\n",
       "      <td>SINGLE</td>\n",
       "      <td>WHITE</td>\n",
       "      <td>69.17</td>\n",
       "      <td>128.0</td>\n",
       "      <td>80.0</td>\n",
       "      <td>False</td>\n",
       "      <td>21</td>\n",
       "    </tr>\n",
       "    <tr>\n",
       "      <th>4</th>\n",
       "      <td>Fentanyl Citrate</td>\n",
       "      <td>71</td>\n",
       "      <td>Streptococcus infection in conditions classifi...</td>\n",
       "      <td>F</td>\n",
       "      <td>EW EMER.</td>\n",
       "      <td>EMERGENCY ROOM</td>\n",
       "      <td>Other</td>\n",
       "      <td>SINGLE</td>\n",
       "      <td>WHITE</td>\n",
       "      <td>69.17</td>\n",
       "      <td>128.0</td>\n",
       "      <td>80.0</td>\n",
       "      <td>False</td>\n",
       "      <td>21</td>\n",
       "    </tr>\n",
       "  </tbody>\n",
       "</table>\n",
       "</div>"
      ],
      "text/plain": [
       "               drug  age                                          diagnosis  \\\n",
       "0  Fentanyl Citrate   71        Urinary tract infection, site not specified   \n",
       "1  Fentanyl Citrate   71                          Acute respiratory failure   \n",
       "2  Fentanyl Citrate   71              Asthma, unspecified type, unspecified   \n",
       "3  Fentanyl Citrate   71                          Solitary pulmonary nodule   \n",
       "4  Fentanyl Citrate   71  Streptococcus infection in conditions classifi...   \n",
       "\n",
       "  gender admission_type admission_location insurance marital_status   race  \\\n",
       "0      F       EW EMER.     EMERGENCY ROOM     Other         SINGLE  WHITE   \n",
       "1      F       EW EMER.     EMERGENCY ROOM     Other         SINGLE  WHITE   \n",
       "2      F       EW EMER.     EMERGENCY ROOM     Other         SINGLE  WHITE   \n",
       "3      F       EW EMER.     EMERGENCY ROOM     Other         SINGLE  WHITE   \n",
       "4      F       EW EMER.     EMERGENCY ROOM     Other         SINGLE  WHITE   \n",
       "\n",
       "   weight  bp_systolic  bp_diastolic   died  length_of_stay  \n",
       "0   69.17        128.0          80.0  False              21  \n",
       "1   69.17        128.0          80.0  False              21  \n",
       "2   69.17        128.0          80.0  False              21  \n",
       "3   69.17        128.0          80.0  False              21  \n",
       "4   69.17        128.0          80.0  False              21  "
      ]
     },
     "execution_count": 4,
     "metadata": {},
     "output_type": "execute_result"
    }
   ],
   "source": [
    "dfh.drop_columns(\n",
    "    model_df,[\n",
    "        \"bmi\",\n",
    "        \"height\",\n",
    "    ]\n",
    ")\n",
    "print(model_df.info())\n",
    "model_df.head()"
   ]
  },
  {
   "cell_type": "markdown",
   "metadata": {},
   "source": [
    "Reducing number of categories in categorical variables"
   ]
  },
  {
   "cell_type": "code",
   "execution_count": 5,
   "metadata": {},
   "outputs": [],
   "source": [
    "dfh.reduce_unique_values(model_df, 'drug', 150)\n",
    "dfh.reduce_unique_values(model_df, 'diagnosis', 200)"
   ]
  },
  {
   "cell_type": "markdown",
   "metadata": {},
   "source": [
    "## Length of stay\n",
    "Investigating the target variable"
   ]
  },
  {
   "cell_type": "code",
   "execution_count": 6,
   "metadata": {},
   "outputs": [
    {
     "data": {
      "image/png": "[encoded data removed]",
      "text/plain": [
       "<Figure size 432x288 with 1 Axes>"
      ]
     },
     "metadata": {
      "needs_background": "light"
     },
     "output_type": "display_data"
    }
   ],
   "source": [
    "dfh.qqplot(model_df, \"length_of_stay\")"
   ]
  },
  {
   "cell_type": "code",
   "execution_count": 7,
   "metadata": {},
   "outputs": [
    {
     "data": {
      "image/png": "[encoded data removed]",
      "text/plain": [
       "<Figure size 432x288 with 1 Axes>"
      ]
     },
     "metadata": {
      "needs_background": "light"
     },
     "output_type": "display_data"
    }
   ],
   "source": [
    "model_df.length_of_stay.plot(kind=\"hist\")\n",
    "plt.title(\"Length of stay distribution\");"
   ]
  },
  {
   "cell_type": "code",
   "execution_count": 8,
   "metadata": {},
   "outputs": [
    {
     "data": {
      "image/png": "[encoded data removed]",
      "text/plain": [
       "<Figure size 432x288 with 1 Axes>"
      ]
     },
     "metadata": {
      "needs_background": "light"
     },
     "output_type": "display_data"
    }
   ],
   "source": [
    "model_df.length_of_stay.plot(kind=\"box\")\n",
    "plt.title(\"Length of stay before removing outliers\");\n"
   ]
  },
  {
   "cell_type": "code",
   "execution_count": 9,
   "metadata": {},
   "outputs": [
    {
     "name": "stdout",
     "output_type": "stream",
     "text": [
      "<class 'pandas.core.frame.DataFrame'>\n",
      "Int64Index: 961449 entries, 0 to 1025832\n",
      "Data columns (total 14 columns):\n",
      " #   Column              Non-Null Count   Dtype  \n",
      "---  ------              --------------   -----  \n",
      " 0   drug                961449 non-null  object \n",
      " 1   age                 961449 non-null  int64  \n",
      " 2   diagnosis           961449 non-null  object \n",
      " 3   gender              961449 non-null  object \n",
      " 4   admission_type      961449 non-null  object \n",
      " 5   admission_location  961449 non-null  object \n",
      " 6   insurance           961449 non-null  object \n",
      " 7   marital_status      961449 non-null  object \n",
      " 8   race                961449 non-null  object \n",
      " 9   weight              961449 non-null  float64\n",
      " 10  bp_systolic         961449 non-null  float64\n",
      " 11  bp_diastolic        961449 non-null  float64\n",
      " 12  died                961449 non-null  bool   \n",
      " 13  length_of_stay      961449 non-null  int64  \n",
      "dtypes: bool(1), float64(3), int64(2), object(8)\n",
      "memory usage: 103.6+ MB\n"
     ]
    }
   ],
   "source": [
    "Q1 = model_df.length_of_stay.quantile(0.25)\n",
    "Q3 = model_df.length_of_stay.quantile(0.75)\n",
    "IQR = Q3 - Q1\n",
    "lower_bound = Q1 - 1.5 * IQR\n",
    "upper_bound = Q3 + 1.5 * IQR\n",
    "\n",
    "model_df = model_df[(model_df.length_of_stay >= lower_bound) & (model_df.length_of_stay <= upper_bound)]\n",
    "model_df.info()"
   ]
  },
  {
   "cell_type": "code",
   "execution_count": 10,
   "metadata": {},
   "outputs": [
    {
     "data": {
      "image/png": "[encoded data removed]",
      "text/plain": [
       "<Figure size 432x288 with 1 Axes>"
      ]
     },
     "metadata": {
      "needs_background": "light"
     },
     "output_type": "display_data"
    }
   ],
   "source": [
    "plt.title(\"Length of stay after removing outliers\")\n",
    "dfh.boxplot(model_df, \"length_of_stay\");"
   ]
  },
  {
   "cell_type": "markdown",
   "metadata": {},
   "source": [
    "Applying a boxcox transformation so that the target variable follows a more normal distribution"
   ]
  },
  {
   "cell_type": "code",
   "execution_count": 11,
   "metadata": {},
   "outputs": [
    {
     "data": {
      "image/png": "[encoded data removed]",
      "text/plain": [
       "<Figure size 432x288 with 1 Axes>"
      ]
     },
     "metadata": {
      "needs_background": "light"
     },
     "output_type": "display_data"
    }
   ],
   "source": [
    "model_df['length_of_stay_boxcox'], box_lambda = stats.boxcox(model_df['length_of_stay'] + 1)  # +1 to avoid log(0)\n",
    "dfh.drop_columns(\n",
    "    model_df,[\n",
    "        \"length_of_stay\",\n",
    "    ]\n",
    ")\n",
    "dfh.qqplot(model_df, \"length_of_stay_boxcox\")"
   ]
  },
  {
   "cell_type": "code",
   "execution_count": 12,
   "metadata": {},
   "outputs": [
    {
     "data": {
      "image/png": "[encoded data removed]",
      "text/plain": [
       "<Figure size 432x288 with 1 Axes>"
      ]
     },
     "metadata": {
      "needs_background": "light"
     },
     "output_type": "display_data"
    }
   ],
   "source": [
    "model_df.length_of_stay_boxcox.plot(kind=\"hist\")\n",
    "plt.title(\"Length of stay after Box-Cox transformation\");"
   ]
  },
  {
   "cell_type": "markdown",
   "metadata": {},
   "source": [
    "**Observations**\n",
    "Although not perfect, the distribution is more normal now.\n",
    "\n",
    "### Logistic Regression"
   ]
  },
  {
   "cell_type": "code",
   "execution_count": 13,
   "metadata": {},
   "outputs": [
    {
     "data": {
      "text/html": [
       "<div>\n",
       "<style scoped>\n",
       "    .dataframe tbody tr th:only-of-type {\n",
       "        vertical-align: middle;\n",
       "    }\n",
       "\n",
       "    .dataframe tbody tr th {\n",
       "        vertical-align: top;\n",
       "    }\n",
       "\n",
       "    .dataframe thead th {\n",
       "        text-align: right;\n",
       "    }\n",
       "</style>\n",
       "<table border=\"1\" class=\"dataframe\">\n",
       "  <thead>\n",
       "    <tr style=\"text-align: right;\">\n",
       "      <th></th>\n",
       "      <th>drug</th>\n",
       "      <th>age</th>\n",
       "      <th>diagnosis</th>\n",
       "      <th>gender</th>\n",
       "      <th>admission_type</th>\n",
       "      <th>admission_location</th>\n",
       "      <th>insurance</th>\n",
       "      <th>marital_status</th>\n",
       "      <th>race</th>\n",
       "      <th>weight</th>\n",
       "      <th>bp_systolic</th>\n",
       "      <th>bp_diastolic</th>\n",
       "      <th>length_of_stay_boxcox</th>\n",
       "    </tr>\n",
       "  </thead>\n",
       "  <tbody>\n",
       "    <tr>\n",
       "      <th>264035</th>\n",
       "      <td>Metolazone</td>\n",
       "      <td>64</td>\n",
       "      <td>Depressive disorder, not elsewhere classified</td>\n",
       "      <td>F</td>\n",
       "      <td>AMBULATORY OBSERVATION</td>\n",
       "      <td>PROCEDURE SITE</td>\n",
       "      <td>Other</td>\n",
       "      <td>DIVORCED</td>\n",
       "      <td>WHITE</td>\n",
       "      <td>107.20</td>\n",
       "      <td>112.0</td>\n",
       "      <td>60.0</td>\n",
       "      <td>0.000000</td>\n",
       "    </tr>\n",
       "    <tr>\n",
       "      <th>696144</th>\n",
       "      <td>Amlodipine</td>\n",
       "      <td>78</td>\n",
       "      <td>Esophageal reflux</td>\n",
       "      <td>F</td>\n",
       "      <td>EW EMER.</td>\n",
       "      <td>EMERGENCY ROOM</td>\n",
       "      <td>Medicare</td>\n",
       "      <td>WIDOWED</td>\n",
       "      <td>HISPANIC/LATINO - CUBAN</td>\n",
       "      <td>65.80</td>\n",
       "      <td>180.0</td>\n",
       "      <td>60.0</td>\n",
       "      <td>1.540668</td>\n",
       "    </tr>\n",
       "    <tr>\n",
       "      <th>943050</th>\n",
       "      <td>5% Dextrose</td>\n",
       "      <td>57</td>\n",
       "      <td>Secondary esophageal varices without bleeding</td>\n",
       "      <td>M</td>\n",
       "      <td>OBSERVATION ADMIT</td>\n",
       "      <td>EMERGENCY ROOM</td>\n",
       "      <td>Medicaid</td>\n",
       "      <td>SINGLE</td>\n",
       "      <td>PORTUGUESE</td>\n",
       "      <td>68.04</td>\n",
       "      <td>132.0</td>\n",
       "      <td>79.0</td>\n",
       "      <td>1.194138</td>\n",
       "    </tr>\n",
       "    <tr>\n",
       "      <th>344985</th>\n",
       "      <td>Acyclovir</td>\n",
       "      <td>63</td>\n",
       "      <td>Other</td>\n",
       "      <td>M</td>\n",
       "      <td>AMBULATORY OBSERVATION</td>\n",
       "      <td>PACU</td>\n",
       "      <td>Other</td>\n",
       "      <td>MARRIED</td>\n",
       "      <td>WHITE</td>\n",
       "      <td>85.82</td>\n",
       "      <td>142.0</td>\n",
       "      <td>75.0</td>\n",
       "      <td>0.000000</td>\n",
       "    </tr>\n",
       "    <tr>\n",
       "      <th>936215</th>\n",
       "      <td>5% Dextrose</td>\n",
       "      <td>65</td>\n",
       "      <td>Other</td>\n",
       "      <td>M</td>\n",
       "      <td>AMBULATORY OBSERVATION</td>\n",
       "      <td>PROCEDURE SITE</td>\n",
       "      <td>Medicare</td>\n",
       "      <td>DIVORCED</td>\n",
       "      <td>WHITE</td>\n",
       "      <td>76.11</td>\n",
       "      <td>162.0</td>\n",
       "      <td>89.0</td>\n",
       "      <td>0.730394</td>\n",
       "    </tr>\n",
       "    <tr>\n",
       "      <th>...</th>\n",
       "      <td>...</td>\n",
       "      <td>...</td>\n",
       "      <td>...</td>\n",
       "      <td>...</td>\n",
       "      <td>...</td>\n",
       "      <td>...</td>\n",
       "      <td>...</td>\n",
       "      <td>...</td>\n",
       "      <td>...</td>\n",
       "      <td>...</td>\n",
       "      <td>...</td>\n",
       "      <td>...</td>\n",
       "      <td>...</td>\n",
       "    </tr>\n",
       "    <tr>\n",
       "      <th>816562</th>\n",
       "      <td>Other</td>\n",
       "      <td>78</td>\n",
       "      <td>Chronic kidney disease, Stage III (moderate)</td>\n",
       "      <td>F</td>\n",
       "      <td>EW EMER.</td>\n",
       "      <td>EMERGENCY ROOM</td>\n",
       "      <td>Medicare</td>\n",
       "      <td>WIDOWED</td>\n",
       "      <td>HISPANIC/LATINO - CUBAN</td>\n",
       "      <td>65.80</td>\n",
       "      <td>180.0</td>\n",
       "      <td>60.0</td>\n",
       "      <td>2.601790</td>\n",
       "    </tr>\n",
       "    <tr>\n",
       "      <th>981411</th>\n",
       "      <td>Sodium Chloride 0.9%</td>\n",
       "      <td>64</td>\n",
       "      <td>Unspecified place in hospital as the place of ...</td>\n",
       "      <td>F</td>\n",
       "      <td>OBSERVATION ADMIT</td>\n",
       "      <td>EMERGENCY ROOM</td>\n",
       "      <td>Other</td>\n",
       "      <td>DIVORCED</td>\n",
       "      <td>WHITE</td>\n",
       "      <td>107.20</td>\n",
       "      <td>112.0</td>\n",
       "      <td>60.0</td>\n",
       "      <td>3.236513</td>\n",
       "    </tr>\n",
       "    <tr>\n",
       "      <th>87530</th>\n",
       "      <td>Lorazepam</td>\n",
       "      <td>53</td>\n",
       "      <td>Other</td>\n",
       "      <td>M</td>\n",
       "      <td>OBSERVATION ADMIT</td>\n",
       "      <td>TRANSFER FROM SKILLED NURSING FACILITY</td>\n",
       "      <td>Other</td>\n",
       "      <td>SINGLE</td>\n",
       "      <td>WHITE</td>\n",
       "      <td>88.50</td>\n",
       "      <td>167.0</td>\n",
       "      <td>101.0</td>\n",
       "      <td>2.259059</td>\n",
       "    </tr>\n",
       "    <tr>\n",
       "      <th>240661</th>\n",
       "      <td>Levothyroxine Sodium</td>\n",
       "      <td>80</td>\n",
       "      <td>Anemia, unspecified</td>\n",
       "      <td>F</td>\n",
       "      <td>EW EMER.</td>\n",
       "      <td>EMERGENCY ROOM</td>\n",
       "      <td>Medicare</td>\n",
       "      <td>WIDOWED</td>\n",
       "      <td>WHITE</td>\n",
       "      <td>40.82</td>\n",
       "      <td>190.0</td>\n",
       "      <td>105.0</td>\n",
       "      <td>1.194138</td>\n",
       "    </tr>\n",
       "    <tr>\n",
       "      <th>815770</th>\n",
       "      <td>Potassium Chloride</td>\n",
       "      <td>57</td>\n",
       "      <td>Secondary esophageal varices without bleeding</td>\n",
       "      <td>M</td>\n",
       "      <td>OBSERVATION ADMIT</td>\n",
       "      <td>EMERGENCY ROOM</td>\n",
       "      <td>Medicaid</td>\n",
       "      <td>SINGLE</td>\n",
       "      <td>PORTUGUESE</td>\n",
       "      <td>68.04</td>\n",
       "      <td>132.0</td>\n",
       "      <td>79.0</td>\n",
       "      <td>1.819928</td>\n",
       "    </tr>\n",
       "  </tbody>\n",
       "</table>\n",
       "<p>100000 rows × 13 columns</p>\n",
       "</div>"
      ],
      "text/plain": [
       "                        drug  age  \\\n",
       "264035            Metolazone   64   \n",
       "696144            Amlodipine   78   \n",
       "943050           5% Dextrose   57   \n",
       "344985             Acyclovir   63   \n",
       "936215           5% Dextrose   65   \n",
       "...                      ...  ...   \n",
       "816562                 Other   78   \n",
       "981411  Sodium Chloride 0.9%   64   \n",
       "87530              Lorazepam   53   \n",
       "240661  Levothyroxine Sodium   80   \n",
       "815770    Potassium Chloride   57   \n",
       "\n",
       "                                                diagnosis gender  \\\n",
       "264035      Depressive disorder, not elsewhere classified      F   \n",
       "696144                                  Esophageal reflux      F   \n",
       "943050      Secondary esophageal varices without bleeding      M   \n",
       "344985                                              Other      M   \n",
       "936215                                              Other      M   \n",
       "...                                                   ...    ...   \n",
       "816562       Chronic kidney disease, Stage III (moderate)      F   \n",
       "981411  Unspecified place in hospital as the place of ...      F   \n",
       "87530                                               Other      M   \n",
       "240661                                Anemia, unspecified      F   \n",
       "815770      Secondary esophageal varices without bleeding      M   \n",
       "\n",
       "                admission_type                      admission_location  \\\n",
       "264035  AMBULATORY OBSERVATION                          PROCEDURE SITE   \n",
       "696144                EW EMER.                          EMERGENCY ROOM   \n",
       "943050       OBSERVATION ADMIT                          EMERGENCY ROOM   \n",
       "344985  AMBULATORY OBSERVATION                                    PACU   \n",
       "936215  AMBULATORY OBSERVATION                          PROCEDURE SITE   \n",
       "...                        ...                                     ...   \n",
       "816562                EW EMER.                          EMERGENCY ROOM   \n",
       "981411       OBSERVATION ADMIT                          EMERGENCY ROOM   \n",
       "87530        OBSERVATION ADMIT  TRANSFER FROM SKILLED NURSING FACILITY   \n",
       "240661                EW EMER.                          EMERGENCY ROOM   \n",
       "815770       OBSERVATION ADMIT                          EMERGENCY ROOM   \n",
       "\n",
       "       insurance marital_status                     race  weight  bp_systolic  \\\n",
       "264035     Other       DIVORCED                    WHITE  107.20        112.0   \n",
       "696144  Medicare        WIDOWED  HISPANIC/LATINO - CUBAN   65.80        180.0   \n",
       "943050  Medicaid         SINGLE               PORTUGUESE   68.04        132.0   \n",
       "344985     Other        MARRIED                    WHITE   85.82        142.0   \n",
       "936215  Medicare       DIVORCED                    WHITE   76.11        162.0   \n",
       "...          ...            ...                      ...     ...          ...   \n",
       "816562  Medicare        WIDOWED  HISPANIC/LATINO - CUBAN   65.80        180.0   \n",
       "981411     Other       DIVORCED                    WHITE  107.20        112.0   \n",
       "87530      Other         SINGLE                    WHITE   88.50        167.0   \n",
       "240661  Medicare        WIDOWED                    WHITE   40.82        190.0   \n",
       "815770  Medicaid         SINGLE               PORTUGUESE   68.04        132.0   \n",
       "\n",
       "        bp_diastolic  length_of_stay_boxcox  \n",
       "264035          60.0               0.000000  \n",
       "696144          60.0               1.540668  \n",
       "943050          79.0               1.194138  \n",
       "344985          75.0               0.000000  \n",
       "936215          89.0               0.730394  \n",
       "...              ...                    ...  \n",
       "816562          60.0               2.601790  \n",
       "981411          60.0               3.236513  \n",
       "87530          101.0               2.259059  \n",
       "240661         105.0               1.194138  \n",
       "815770          79.0               1.819928  \n",
       "\n",
       "[100000 rows x 13 columns]"
      ]
     },
     "execution_count": 13,
     "metadata": {},
     "output_type": "execute_result"
    }
   ],
   "source": [
    "los_df = model_df.copy()\n",
    "dfh.drop_columns(\n",
    "    los_df,[\n",
    "        \"died\"\n",
    "    ]\n",
    ")\n",
    "categorical = list(dfh.categorical_columns(los_df))\n",
    "continuous = list(dfh.numerical_columns(los_df))\n",
    "continuous.remove('length_of_stay_boxcox')\n",
    "\n",
    "numerical_transformer = Pipeline(steps=[\n",
    "    ('scaler', StandardScaler())  # Standardize numerical features\n",
    "])\n",
    "\n",
    "categorical_transformer = Pipeline(steps=[\n",
    "    ('onehot', OneHotEncoder(handle_unknown='error', drop=\"first\"))  # One-hot encode categorical features\n",
    "])\n",
    "\n",
    "preprocessor = ColumnTransformer(\n",
    "    transformers=[\n",
    "        ('cat', categorical_transformer, categorical),\n",
    "        ('num', numerical_transformer, continuous),\n",
    "    ],\n",
    ")\n",
    "los_df = los_df.sample(100000, random_state=42)\n",
    "los_df"
   ]
  },
  {
   "cell_type": "code",
   "execution_count": 14,
   "metadata": {
    "scrolled": false
   },
   "outputs": [
    {
     "data": {
      "text/plain": [
       "<20000x386 sparse matrix of type '<class 'numpy.float64'>'\n",
       "\twith 224467 stored elements in Compressed Sparse Row format>"
      ]
     },
     "execution_count": 14,
     "metadata": {},
     "output_type": "execute_result"
    }
   ],
   "source": [
    "los_xtrain, los_xtest, los_ytrain, los_ytest = dfh.xy_split(los_df, \"length_of_stay_boxcox\")\n",
    "los_xtrain_transformed = preprocessor.fit_transform(los_xtrain)\n",
    "los_xtest_transformed = preprocessor.transform(los_xtest)\n",
    "los_xtest_transformed"
   ]
  },
  {
   "cell_type": "code",
   "execution_count": 15,
   "metadata": {},
   "outputs": [],
   "source": [
    "import pickle\n",
    "\n",
    "#with open('data/los_xtrain_transformed.pkl', 'wb') as f:\n",
    "#    pickle.dump(los_xtrain_transformed, f)\n",
    "#with open('data/los_xtest_transformed.pkl', 'wb') as f:\n",
    "#    pickle.dump(los_xtest_transformed, f)\n",
    "#with open('data/los_ytrain.pkl', 'wb') as f:\n",
    "#    pickle.dump(los_ytrain, f)\n",
    "#with open('data/los_ytest.pkl', 'wb') as f:\n",
    "#    pickle.dump(los_ytest, f)\n",
    "#with open('data/preprocessor.pkl', 'wb') as f:\n",
    "#    pickle.dump(preprocessor, f)\n",
    "#with open('data/los_df.pkl', 'wb') as f:\n",
    "#    pickle.dump(los_df, f)\n",
    "#los_df.to_csv(\"data/los_df.csv\", index=False)"
   ]
  },
  {
   "cell_type": "code",
   "execution_count": 16,
   "metadata": {},
   "outputs": [
    {
     "name": "stdout",
     "output_type": "stream",
     "text": [
      "Mean Absolute Error (MAE): 0.53\n",
      "Mean Squared Error (MSE): 0.45\n",
      "Root Mean Squared Error (RMSE): 0.67\n",
      "R-squared (R²): 0.37\n",
      "Median Absolute Error: 0.43\n",
      "Explained Variance Score: 0.37\n"
     ]
    }
   ],
   "source": [
    "lr_los = LinearRegression()\n",
    "lr_los.fit(los_xtrain_transformed, los_ytrain)\n",
    "\n",
    "# Predict on test set\n",
    "y_pred = lr_los.predict(los_xtest_transformed)\n",
    "dfh.evaluate_model(y_pred, los_ytest)"
   ]
  },
  {
   "cell_type": "markdown",
   "metadata": {},
   "source": [
    "**Observations**\n",
    "As we can see, the linear regression model only explains 38% of the variance in length of stay.\n",
    "\n",
    "### Random Forest Regression\n",
    "A helper function that converts the predictions back to the original scale"
   ]
  },
  {
   "cell_type": "code",
   "execution_count": 17,
   "metadata": {},
   "outputs": [],
   "source": [
    "def convert_back_to_original_scale(series, box_lambda):\n",
    "    predictions_original = None\n",
    "    if box_lambda != 0:\n",
    "        predictions_original = (series * box_lambda + 1) ** (1 / box_lambda)\n",
    "    else:\n",
    "        predictions_original = np.exp(series)\n",
    "\n",
    "    predictions_original -= 1\n",
    "    return np.round(predictions_original)"
   ]
  },
  {
   "cell_type": "code",
   "execution_count": 18,
   "metadata": {},
   "outputs": [
    {
     "name": "stdout",
     "output_type": "stream",
     "text": [
      "Mean Absolute Error (MAE): 0.23\n",
      "Mean Squared Error (MSE): 0.23\n",
      "Root Mean Squared Error (RMSE): 0.48\n",
      "R-squared (R²): 0.78\n",
      "Median Absolute Error: 0.00\n",
      "Explained Variance Score: 0.78\n"
     ]
    }
   ],
   "source": [
    "#implementing random forest regressor\n",
    "dtr_los = RandomForestRegressor(n_estimators=5, random_state=42)\n",
    "dtr_los.fit(los_xtrain_transformed, los_ytrain)\n",
    "# Predict on test set\n",
    "y_pred_dt = dtr_los.predict(los_xtest_transformed)\n",
    "dfh.evaluate_model(y_pred_dt, los_ytest)"
   ]
  },
  {
   "cell_type": "markdown",
   "metadata": {},
   "source": [
    "**Observations:**\n",
    "The random forest regression model explains ***78% of the variance*** in length of stay. A  great improvement on the linear regression model's 37%.\n",
    "\n",
    "#### Inspecting model predictions"
   ]
  },
  {
   "cell_type": "code",
   "execution_count": 19,
   "metadata": {},
   "outputs": [
    {
     "data": {
      "text/html": [
       "<div>\n",
       "<style scoped>\n",
       "    .dataframe tbody tr th:only-of-type {\n",
       "        vertical-align: middle;\n",
       "    }\n",
       "\n",
       "    .dataframe tbody tr th {\n",
       "        vertical-align: top;\n",
       "    }\n",
       "\n",
       "    .dataframe thead th {\n",
       "        text-align: right;\n",
       "    }\n",
       "</style>\n",
       "<table border=\"1\" class=\"dataframe\">\n",
       "  <thead>\n",
       "    <tr style=\"text-align: right;\">\n",
       "      <th></th>\n",
       "      <th>predictions</th>\n",
       "      <th>actual</th>\n",
       "    </tr>\n",
       "  </thead>\n",
       "  <tbody>\n",
       "    <tr>\n",
       "      <th>0</th>\n",
       "      <td>1.0</td>\n",
       "      <td>1.0</td>\n",
       "    </tr>\n",
       "    <tr>\n",
       "      <th>1</th>\n",
       "      <td>0.0</td>\n",
       "      <td>0.0</td>\n",
       "    </tr>\n",
       "    <tr>\n",
       "      <th>2</th>\n",
       "      <td>8.0</td>\n",
       "      <td>14.0</td>\n",
       "    </tr>\n",
       "    <tr>\n",
       "      <th>3</th>\n",
       "      <td>8.0</td>\n",
       "      <td>7.0</td>\n",
       "    </tr>\n",
       "    <tr>\n",
       "      <th>4</th>\n",
       "      <td>6.0</td>\n",
       "      <td>6.0</td>\n",
       "    </tr>\n",
       "    <tr>\n",
       "      <th>5</th>\n",
       "      <td>6.0</td>\n",
       "      <td>6.0</td>\n",
       "    </tr>\n",
       "    <tr>\n",
       "      <th>6</th>\n",
       "      <td>7.0</td>\n",
       "      <td>6.0</td>\n",
       "    </tr>\n",
       "    <tr>\n",
       "      <th>7</th>\n",
       "      <td>4.0</td>\n",
       "      <td>6.0</td>\n",
       "    </tr>\n",
       "    <tr>\n",
       "      <th>8</th>\n",
       "      <td>3.0</td>\n",
       "      <td>3.0</td>\n",
       "    </tr>\n",
       "    <tr>\n",
       "      <th>9</th>\n",
       "      <td>2.0</td>\n",
       "      <td>6.0</td>\n",
       "    </tr>\n",
       "    <tr>\n",
       "      <th>10</th>\n",
       "      <td>4.0</td>\n",
       "      <td>4.0</td>\n",
       "    </tr>\n",
       "    <tr>\n",
       "      <th>11</th>\n",
       "      <td>0.0</td>\n",
       "      <td>0.0</td>\n",
       "    </tr>\n",
       "    <tr>\n",
       "      <th>12</th>\n",
       "      <td>3.0</td>\n",
       "      <td>5.0</td>\n",
       "    </tr>\n",
       "    <tr>\n",
       "      <th>13</th>\n",
       "      <td>16.0</td>\n",
       "      <td>16.0</td>\n",
       "    </tr>\n",
       "    <tr>\n",
       "      <th>14</th>\n",
       "      <td>3.0</td>\n",
       "      <td>3.0</td>\n",
       "    </tr>\n",
       "    <tr>\n",
       "      <th>15</th>\n",
       "      <td>16.0</td>\n",
       "      <td>16.0</td>\n",
       "    </tr>\n",
       "    <tr>\n",
       "      <th>16</th>\n",
       "      <td>3.0</td>\n",
       "      <td>3.0</td>\n",
       "    </tr>\n",
       "    <tr>\n",
       "      <th>17</th>\n",
       "      <td>3.0</td>\n",
       "      <td>3.0</td>\n",
       "    </tr>\n",
       "    <tr>\n",
       "      <th>18</th>\n",
       "      <td>5.0</td>\n",
       "      <td>7.0</td>\n",
       "    </tr>\n",
       "    <tr>\n",
       "      <th>19</th>\n",
       "      <td>2.0</td>\n",
       "      <td>2.0</td>\n",
       "    </tr>\n",
       "  </tbody>\n",
       "</table>\n",
       "</div>"
      ],
      "text/plain": [
       "    predictions  actual\n",
       "0           1.0     1.0\n",
       "1           0.0     0.0\n",
       "2           8.0    14.0\n",
       "3           8.0     7.0\n",
       "4           6.0     6.0\n",
       "5           6.0     6.0\n",
       "6           7.0     6.0\n",
       "7           4.0     6.0\n",
       "8           3.0     3.0\n",
       "9           2.0     6.0\n",
       "10          4.0     4.0\n",
       "11          0.0     0.0\n",
       "12          3.0     5.0\n",
       "13         16.0    16.0\n",
       "14          3.0     3.0\n",
       "15         16.0    16.0\n",
       "16          3.0     3.0\n",
       "17          3.0     3.0\n",
       "18          5.0     7.0\n",
       "19          2.0     2.0"
      ]
     },
     "execution_count": 19,
     "metadata": {},
     "output_type": "execute_result"
    }
   ],
   "source": [
    "y_pred_dt_series = pd.Series(np.array(y_pred_dt), name=\"predictions\")\n",
    "los_ytest_series = pd.Series(np.array(los_ytest), name=\"actual\")\n",
    "y_pred_dt_series = convert_back_to_original_scale(y_pred_dt_series, box_lambda)\n",
    "los_ytest_series = convert_back_to_original_scale(los_ytest_series, box_lambda)\n",
    "comparison_df = pd.concat([y_pred_dt_series, los_ytest_series], axis=1)\n",
    "comparison_df.head(20)"
   ]
  },
  {
   "cell_type": "code",
   "execution_count": 20,
   "metadata": {},
   "outputs": [
    {
     "name": "stdout",
     "output_type": "stream",
     "text": [
      "test los: 15.0 days\n"
     ]
    }
   ],
   "source": [
    "test = los_df.iloc[15].to_dict()\n",
    "print(f\"test los: {convert_back_to_original_scale(test['length_of_stay_boxcox'], box_lambda)} days\")"
   ]
  },
  {
   "cell_type": "code",
   "execution_count": 21,
   "metadata": {},
   "outputs": [
    {
     "name": "stdout",
     "output_type": "stream",
     "text": [
      "predicted los: 15.0 days\n"
     ]
    }
   ],
   "source": [
    "test_df = pd.DataFrame([test])\n",
    "tempx, tempy = test_df.drop(\"length_of_stay_boxcox\", axis=1), test_df[\"length_of_stay_boxcox\"]\n",
    "tempx_transformed = preprocessor.transform(tempx)\n",
    "\n",
    "print(f\"predicted los: {convert_back_to_original_scale(dtr_los.predict(tempx_transformed), box_lambda)[0]} days\")\n"
   ]
  },
  {
   "cell_type": "markdown",
   "metadata": {},
   "source": [
    "## Readmissions\n",
    "\n",
    "We first assemble the data as needed"
   ]
  },
  {
   "cell_type": "code",
   "execution_count": 22,
   "metadata": {},
   "outputs": [
    {
     "data": {
      "text/html": [
       "<div>\n",
       "<style scoped>\n",
       "    .dataframe tbody tr th:only-of-type {\n",
       "        vertical-align: middle;\n",
       "    }\n",
       "\n",
       "    .dataframe tbody tr th {\n",
       "        vertical-align: top;\n",
       "    }\n",
       "\n",
       "    .dataframe thead th {\n",
       "        text-align: right;\n",
       "    }\n",
       "</style>\n",
       "<table border=\"1\" class=\"dataframe\">\n",
       "  <thead>\n",
       "    <tr style=\"text-align: right;\">\n",
       "      <th></th>\n",
       "      <th>drug</th>\n",
       "      <th>age</th>\n",
       "      <th>diagnosis</th>\n",
       "      <th>gender</th>\n",
       "      <th>admission_type</th>\n",
       "      <th>admission_location</th>\n",
       "      <th>insurance</th>\n",
       "      <th>marital_status</th>\n",
       "      <th>race</th>\n",
       "      <th>weight</th>\n",
       "      <th>bp_systolic</th>\n",
       "      <th>bp_diastolic</th>\n",
       "      <th>is_readmission</th>\n",
       "    </tr>\n",
       "  </thead>\n",
       "  <tbody>\n",
       "    <tr>\n",
       "      <th>202392</th>\n",
       "      <td>Polyethylene Glycol</td>\n",
       "      <td>53</td>\n",
       "      <td>Hypertensive chronic kidney disease with stage...</td>\n",
       "      <td>M</td>\n",
       "      <td>EW EMER.</td>\n",
       "      <td>EMERGENCY ROOM</td>\n",
       "      <td>Medicare</td>\n",
       "      <td>WIDOWED</td>\n",
       "      <td>WHITE</td>\n",
       "      <td>87.10</td>\n",
       "      <td>127.0</td>\n",
       "      <td>76.0</td>\n",
       "      <td>False</td>\n",
       "    </tr>\n",
       "    <tr>\n",
       "      <th>15103</th>\n",
       "      <td>Multivitamins</td>\n",
       "      <td>63</td>\n",
       "      <td>Personal history of malignant neoplasm of breast</td>\n",
       "      <td>M</td>\n",
       "      <td>DIRECT EMER.</td>\n",
       "      <td>CLINIC REFERRAL</td>\n",
       "      <td>Other</td>\n",
       "      <td>MARRIED</td>\n",
       "      <td>UNKNOWN</td>\n",
       "      <td>85.82</td>\n",
       "      <td>142.0</td>\n",
       "      <td>75.0</td>\n",
       "      <td>False</td>\n",
       "    </tr>\n",
       "    <tr>\n",
       "      <th>637368</th>\n",
       "      <td>Glucose Gel</td>\n",
       "      <td>53</td>\n",
       "      <td>Other</td>\n",
       "      <td>M</td>\n",
       "      <td>EW EMER.</td>\n",
       "      <td>PHYSICIAN REFERRAL</td>\n",
       "      <td>Other</td>\n",
       "      <td>SINGLE</td>\n",
       "      <td>WHITE</td>\n",
       "      <td>88.50</td>\n",
       "      <td>167.0</td>\n",
       "      <td>101.0</td>\n",
       "      <td>False</td>\n",
       "    </tr>\n",
       "    <tr>\n",
       "      <th>357093</th>\n",
       "      <td>Acetaminophen</td>\n",
       "      <td>60</td>\n",
       "      <td>Hypo-osmolality and hyponatremia</td>\n",
       "      <td>M</td>\n",
       "      <td>EU OBSERVATION</td>\n",
       "      <td>EMERGENCY ROOM</td>\n",
       "      <td>Other</td>\n",
       "      <td>SINGLE</td>\n",
       "      <td>WHITE</td>\n",
       "      <td>124.00</td>\n",
       "      <td>187.0</td>\n",
       "      <td>74.0</td>\n",
       "      <td>True</td>\n",
       "    </tr>\n",
       "    <tr>\n",
       "      <th>735374</th>\n",
       "      <td>Acetaminophen</td>\n",
       "      <td>53</td>\n",
       "      <td>Anemia in chronic kidney disease</td>\n",
       "      <td>M</td>\n",
       "      <td>URGENT</td>\n",
       "      <td>TRANSFER FROM SKILLED NURSING FACILITY</td>\n",
       "      <td>Other</td>\n",
       "      <td>SINGLE</td>\n",
       "      <td>WHITE</td>\n",
       "      <td>88.50</td>\n",
       "      <td>167.0</td>\n",
       "      <td>101.0</td>\n",
       "      <td>False</td>\n",
       "    </tr>\n",
       "  </tbody>\n",
       "</table>\n",
       "</div>"
      ],
      "text/plain": [
       "                       drug  age  \\\n",
       "202392  Polyethylene Glycol   53   \n",
       "15103         Multivitamins   63   \n",
       "637368          Glucose Gel   53   \n",
       "357093        Acetaminophen   60   \n",
       "735374        Acetaminophen   53   \n",
       "\n",
       "                                                diagnosis gender  \\\n",
       "202392  Hypertensive chronic kidney disease with stage...      M   \n",
       "15103    Personal history of malignant neoplasm of breast      M   \n",
       "637368                                              Other      M   \n",
       "357093                   Hypo-osmolality and hyponatremia      M   \n",
       "735374                   Anemia in chronic kidney disease      M   \n",
       "\n",
       "        admission_type                      admission_location insurance  \\\n",
       "202392        EW EMER.                          EMERGENCY ROOM  Medicare   \n",
       "15103     DIRECT EMER.                         CLINIC REFERRAL     Other   \n",
       "637368        EW EMER.                      PHYSICIAN REFERRAL     Other   \n",
       "357093  EU OBSERVATION                          EMERGENCY ROOM     Other   \n",
       "735374          URGENT  TRANSFER FROM SKILLED NURSING FACILITY     Other   \n",
       "\n",
       "       marital_status     race  weight  bp_systolic  bp_diastolic  \\\n",
       "202392        WIDOWED    WHITE   87.10        127.0          76.0   \n",
       "15103         MARRIED  UNKNOWN   85.82        142.0          75.0   \n",
       "637368         SINGLE    WHITE   88.50        167.0         101.0   \n",
       "357093         SINGLE    WHITE  124.00        187.0          74.0   \n",
       "735374         SINGLE    WHITE   88.50        167.0         101.0   \n",
       "\n",
       "        is_readmission  \n",
       "202392           False  \n",
       "15103            False  \n",
       "637368           False  \n",
       "357093            True  \n",
       "735374           False  "
      ]
     },
     "execution_count": 22,
     "metadata": {},
     "output_type": "execute_result"
    }
   ],
   "source": [
    "base_df = pd.read_csv(\"data/cleaned_data.csv\")\n",
    "readmissions_df = pd.read_csv(\"data/readmissions_df.csv\")\n",
    "filtered = readmissions_df[[\"hadm_id\", \"is_readmission\"]]\n",
    "#merge filtered to base_df\n",
    "readmission_model_df = pd.merge(base_df, filtered, on=\"hadm_id\", how=\"left\")\n",
    "dfh.drop_columns(\n",
    "    readmission_model_df,[\n",
    "        \"subject_id\",\n",
    "        \"hadm_id\",\n",
    "        \"admittime\",\n",
    "        \"dischtime\",\n",
    "        \"drug_type\",\n",
    "        \"length_of_stay\",\n",
    "        \"died\",\n",
    "        \"language\",\n",
    "        \"bmi\",\n",
    "        \"height\"\n",
    "    ]\n",
    ")\n",
    "dfh.reduce_unique_values(readmission_model_df, 'drug', 150)\n",
    "dfh.reduce_unique_values(readmission_model_df, 'diagnosis', 200)\n",
    "\n",
    "categorical = list(dfh.categorical_columns(readmission_model_df))\n",
    "continuous = list(dfh.numerical_columns(readmission_model_df))\n",
    "#continuous.remove('length_of_stay_boxcox')\n",
    "\n",
    "numerical_transformer = Pipeline(steps=[\n",
    "    ('scaler', StandardScaler())  # Standardize numerical features\n",
    "])\n",
    "\n",
    "categorical_transformer = Pipeline(steps=[\n",
    "    ('onehot', OneHotEncoder(handle_unknown='error', drop=\"first\"))  # One-hot encode categorical features\n",
    "])\n",
    "\n",
    "readmission_preprocessor = ColumnTransformer(\n",
    "    transformers=[\n",
    "        ('cat', categorical_transformer, categorical),\n",
    "        ('num', numerical_transformer, continuous),\n",
    "    ],\n",
    ")\n",
    "\n",
    "readmission_model_df = readmission_model_df.sample(100000, random_state=42)\n",
    "\n",
    "\n",
    "x_train, x_test, y_train, y_test = dfh.xy_split(readmission_model_df.head(100000), \"is_readmission\")\n",
    "x_train = readmission_preprocessor.fit_transform(x_train)\n",
    "x_test = readmission_preprocessor.transform(x_test)\n",
    "\n",
    "warnings.filterwarnings('ignore')\n",
    "#label encode y\n",
    "le = LabelEncoder()\n",
    "y_train = le.fit_transform(y_train)\n",
    "y_test = le.transform(y_test)\n",
    "readmission_model_df.head()\n",
    "\n"
   ]
  },
  {
   "cell_type": "markdown",
   "metadata": {},
   "source": [
    "### Logistic Regression"
   ]
  },
  {
   "cell_type": "code",
   "execution_count": 23,
   "metadata": {},
   "outputs": [
    {
     "name": "stdout",
     "output_type": "stream",
     "text": [
      "Accuracy: 0.77385\n",
      "              precision    recall  f1-score   support\n",
      "\n",
      "           0       0.84      0.83      0.83     13716\n",
      "           1       0.64      0.64      0.64      6284\n",
      "\n",
      "    accuracy                           0.77     20000\n",
      "   macro avg       0.74      0.74      0.74     20000\n",
      "weighted avg       0.77      0.77      0.77     20000\n",
      "\n"
     ]
    }
   ],
   "source": [
    "logr_readmission = LogisticRegression(solver='lbfgs', max_iter=200, random_state=42)\n",
    "logr_readmission.fit(x_train, y_train)\n",
    "ypred = logr_readmission.predict(x_test)\n",
    "print(\"Accuracy:\", accuracy_score(y_test, ypred))\n",
    "print(classification_report(y_test, ypred))"
   ]
  },
  {
   "cell_type": "markdown",
   "metadata": {},
   "source": [
    "**Observations:** The logistic regression model gives an accuracy of 77% on the test set which meets the requirements."
   ]
  },
  {
   "cell_type": "code",
   "execution_count": 24,
   "metadata": {},
   "outputs": [
    {
     "data": {
      "image/png": "[encoded data removed]",
      "text/plain": [
       "<Figure size 432x288 with 1 Axes>"
      ]
     },
     "metadata": {
      "needs_background": "light"
     },
     "output_type": "display_data"
    }
   ],
   "source": [
    "sns.heatmap(confusion_matrix(y_test, ypred), annot=True, fmt='d', cbar=False, xticklabels=le.classes_, yticklabels=le.classes_)\n",
    "plt.xlabel(\"Predicted Values\")\n",
    "plt.ylabel(\"Actual values\")\n",
    "plt.title(\"LogisticRegression Confusion Matrix\")\n",
    "plt.show()"
   ]
  },
  {
   "cell_type": "markdown",
   "metadata": {},
   "source": [
    "### Random Forest Classifier"
   ]
  },
  {
   "cell_type": "code",
   "execution_count": 25,
   "metadata": {
    "scrolled": true
   },
   "outputs": [
    {
     "name": "stdout",
     "output_type": "stream",
     "text": [
      "Accuracy: 0.8011\n",
      "              precision    recall  f1-score   support\n",
      "\n",
      "           0       0.86      0.85      0.85     13716\n",
      "           1       0.68      0.69      0.69      6284\n",
      "\n",
      "    accuracy                           0.80     20000\n",
      "   macro avg       0.77      0.77      0.77     20000\n",
      "weighted avg       0.80      0.80      0.80     20000\n",
      "\n"
     ]
    }
   ],
   "source": [
    "rfc_readmission = RandomForestClassifier(max_depth= None, max_features= 'sqrt', min_samples_leaf= 1, min_samples_split= 10, n_estimators= 6, random_state=42)\n",
    "rfc_readmission.fit(x_train, y_train)\n",
    "\n",
    "y_pred = rfc_readmission.predict(x_test)\n",
    "print(\"Accuracy:\", accuracy_score(y_test, y_pred))\n",
    "print(classification_report(y_test, y_pred))"
   ]
  },
  {
   "cell_type": "markdown",
   "metadata": {},
   "source": [
    "**Observations:** The random forest classifier model gives an accuracy of 80% on the test set which meets the requirements."
   ]
  },
  {
   "cell_type": "code",
   "execution_count": 26,
   "metadata": {},
   "outputs": [
    {
     "data": {
      "image/png": "[encoded data removed]",
      "text/plain": [
       "<Figure size 432x288 with 1 Axes>"
      ]
     },
     "metadata": {
      "needs_background": "light"
     },
     "output_type": "display_data"
    }
   ],
   "source": [
    "sns.heatmap(confusion_matrix(y_test, y_pred), annot=True, fmt='d', cbar=False, xticklabels=le.classes_, yticklabels=le.classes_)\n",
    "plt.xlabel(\"Predicted Values\")\n",
    "plt.ylabel(\"Actual values\")\n",
    "plt.title(\"Random Forest Confusion Matrix\")\n",
    "plt.show()"
   ]
  },
  {
   "cell_type": "markdown",
   "metadata": {},
   "source": [
    "## Death"
   ]
  },
  {
   "cell_type": "code",
   "execution_count": 27,
   "metadata": {},
   "outputs": [
    {
     "data": {
      "text/html": [
       "<div>\n",
       "<style scoped>\n",
       "    .dataframe tbody tr th:only-of-type {\n",
       "        vertical-align: middle;\n",
       "    }\n",
       "\n",
       "    .dataframe tbody tr th {\n",
       "        vertical-align: top;\n",
       "    }\n",
       "\n",
       "    .dataframe thead th {\n",
       "        text-align: right;\n",
       "    }\n",
       "</style>\n",
       "<table border=\"1\" class=\"dataframe\">\n",
       "  <thead>\n",
       "    <tr style=\"text-align: right;\">\n",
       "      <th></th>\n",
       "      <th>drug</th>\n",
       "      <th>age</th>\n",
       "      <th>diagnosis</th>\n",
       "      <th>gender</th>\n",
       "      <th>admission_type</th>\n",
       "      <th>admission_location</th>\n",
       "      <th>insurance</th>\n",
       "      <th>marital_status</th>\n",
       "      <th>race</th>\n",
       "      <th>weight</th>\n",
       "      <th>bp_systolic</th>\n",
       "      <th>bp_diastolic</th>\n",
       "      <th>died</th>\n",
       "    </tr>\n",
       "  </thead>\n",
       "  <tbody>\n",
       "    <tr>\n",
       "      <th>264035</th>\n",
       "      <td>Metolazone</td>\n",
       "      <td>64</td>\n",
       "      <td>Depressive disorder, not elsewhere classified</td>\n",
       "      <td>F</td>\n",
       "      <td>AMBULATORY OBSERVATION</td>\n",
       "      <td>PROCEDURE SITE</td>\n",
       "      <td>Other</td>\n",
       "      <td>DIVORCED</td>\n",
       "      <td>WHITE</td>\n",
       "      <td>107.20</td>\n",
       "      <td>112.0</td>\n",
       "      <td>60.0</td>\n",
       "      <td>False</td>\n",
       "    </tr>\n",
       "    <tr>\n",
       "      <th>696144</th>\n",
       "      <td>Amlodipine</td>\n",
       "      <td>78</td>\n",
       "      <td>Esophageal reflux</td>\n",
       "      <td>F</td>\n",
       "      <td>EW EMER.</td>\n",
       "      <td>EMERGENCY ROOM</td>\n",
       "      <td>Medicare</td>\n",
       "      <td>WIDOWED</td>\n",
       "      <td>HISPANIC/LATINO - CUBAN</td>\n",
       "      <td>65.80</td>\n",
       "      <td>180.0</td>\n",
       "      <td>60.0</td>\n",
       "      <td>False</td>\n",
       "    </tr>\n",
       "    <tr>\n",
       "      <th>943050</th>\n",
       "      <td>5% Dextrose</td>\n",
       "      <td>57</td>\n",
       "      <td>Secondary esophageal varices without bleeding</td>\n",
       "      <td>M</td>\n",
       "      <td>OBSERVATION ADMIT</td>\n",
       "      <td>EMERGENCY ROOM</td>\n",
       "      <td>Medicaid</td>\n",
       "      <td>SINGLE</td>\n",
       "      <td>PORTUGUESE</td>\n",
       "      <td>68.04</td>\n",
       "      <td>132.0</td>\n",
       "      <td>79.0</td>\n",
       "      <td>False</td>\n",
       "    </tr>\n",
       "    <tr>\n",
       "      <th>344985</th>\n",
       "      <td>Acyclovir</td>\n",
       "      <td>63</td>\n",
       "      <td>Other</td>\n",
       "      <td>M</td>\n",
       "      <td>AMBULATORY OBSERVATION</td>\n",
       "      <td>PACU</td>\n",
       "      <td>Other</td>\n",
       "      <td>MARRIED</td>\n",
       "      <td>WHITE</td>\n",
       "      <td>85.82</td>\n",
       "      <td>142.0</td>\n",
       "      <td>75.0</td>\n",
       "      <td>False</td>\n",
       "    </tr>\n",
       "    <tr>\n",
       "      <th>936215</th>\n",
       "      <td>5% Dextrose</td>\n",
       "      <td>65</td>\n",
       "      <td>Other</td>\n",
       "      <td>M</td>\n",
       "      <td>AMBULATORY OBSERVATION</td>\n",
       "      <td>PROCEDURE SITE</td>\n",
       "      <td>Medicare</td>\n",
       "      <td>DIVORCED</td>\n",
       "      <td>WHITE</td>\n",
       "      <td>76.11</td>\n",
       "      <td>162.0</td>\n",
       "      <td>89.0</td>\n",
       "      <td>False</td>\n",
       "    </tr>\n",
       "  </tbody>\n",
       "</table>\n",
       "</div>"
      ],
      "text/plain": [
       "               drug  age                                      diagnosis  \\\n",
       "264035   Metolazone   64  Depressive disorder, not elsewhere classified   \n",
       "696144   Amlodipine   78                              Esophageal reflux   \n",
       "943050  5% Dextrose   57  Secondary esophageal varices without bleeding   \n",
       "344985    Acyclovir   63                                          Other   \n",
       "936215  5% Dextrose   65                                          Other   \n",
       "\n",
       "       gender          admission_type admission_location insurance  \\\n",
       "264035      F  AMBULATORY OBSERVATION     PROCEDURE SITE     Other   \n",
       "696144      F                EW EMER.     EMERGENCY ROOM  Medicare   \n",
       "943050      M       OBSERVATION ADMIT     EMERGENCY ROOM  Medicaid   \n",
       "344985      M  AMBULATORY OBSERVATION               PACU     Other   \n",
       "936215      M  AMBULATORY OBSERVATION     PROCEDURE SITE  Medicare   \n",
       "\n",
       "       marital_status                     race  weight  bp_systolic  \\\n",
       "264035       DIVORCED                    WHITE  107.20        112.0   \n",
       "696144        WIDOWED  HISPANIC/LATINO - CUBAN   65.80        180.0   \n",
       "943050         SINGLE               PORTUGUESE   68.04        132.0   \n",
       "344985        MARRIED                    WHITE   85.82        142.0   \n",
       "936215       DIVORCED                    WHITE   76.11        162.0   \n",
       "\n",
       "        bp_diastolic   died  \n",
       "264035          60.0  False  \n",
       "696144          60.0  False  \n",
       "943050          79.0  False  \n",
       "344985          75.0  False  \n",
       "936215          89.0  False  "
      ]
     },
     "execution_count": 27,
     "metadata": {},
     "output_type": "execute_result"
    }
   ],
   "source": [
    "death_model_df = model_df.sample(100000, random_state=42)\n",
    "dfh.drop_columns(\n",
    "    death_model_df,[\n",
    "        \"length_of_stay_boxcox\"\n",
    "    ]\n",
    ")\n",
    "dfh.reduce_unique_values(model_df, 'drug', 150)\n",
    "dfh.reduce_unique_values(model_df, 'diagnosis', 200)\n",
    "\n",
    "categorical = list(dfh.categorical_columns(readmission_model_df))\n",
    "continuous = list(dfh.numerical_columns(readmission_model_df))\n",
    "\n",
    "\n",
    "numerical_transformer = Pipeline(steps=[\n",
    "    ('scaler', StandardScaler())  # Standardize numerical features\n",
    "])\n",
    "\n",
    "categorical_transformer = Pipeline(steps=[\n",
    "    ('onehot', OneHotEncoder(handle_unknown='error', drop=\"first\"))  # One-hot encode categorical features\n",
    "])\n",
    "\n",
    "death_preprocessor = ColumnTransformer(\n",
    "    transformers=[\n",
    "        ('cat', categorical_transformer, categorical),\n",
    "        ('num', numerical_transformer, continuous),\n",
    "    ],\n",
    ")\n",
    "\n",
    "death_model_df.head()"
   ]
  },
  {
   "cell_type": "code",
   "execution_count": 28,
   "metadata": {},
   "outputs": [],
   "source": [
    "warnings.filterwarnings('ignore')\n",
    "\n",
    "x_train, x_test, y_train, y_test = dfh.xy_split(death_model_df.head(100000), \"died\")\n",
    "x_train = death_preprocessor.fit_transform(x_train)\n",
    "x_test = death_preprocessor.transform(x_test)\n",
    "#label encode y\n",
    "le = LabelEncoder()\n",
    "y_train = le.fit_transform(y_train)\n",
    "y_test = le.transform(y_test)"
   ]
  },
  {
   "cell_type": "markdown",
   "metadata": {},
   "source": [
    "### Logistic Regression"
   ]
  },
  {
   "cell_type": "code",
   "execution_count": 29,
   "metadata": {},
   "outputs": [
    {
     "name": "stdout",
     "output_type": "stream",
     "text": [
      "Accuracy: 0.9701\n",
      "              precision    recall  f1-score   support\n",
      "\n",
      "           0       0.98      0.99      0.98     18907\n",
      "           1       0.79      0.61      0.69      1093\n",
      "\n",
      "    accuracy                           0.97     20000\n",
      "   macro avg       0.89      0.80      0.84     20000\n",
      "weighted avg       0.97      0.97      0.97     20000\n",
      "\n"
     ]
    }
   ],
   "source": [
    "death_logr = LogisticRegression(solver='lbfgs', max_iter=200, random_state=42)\n",
    "death_logr.fit(x_train, y_train)\n",
    "ypred = death_logr.predict(x_test)\n",
    "print(\"Accuracy:\", accuracy_score(y_test, ypred))\n",
    "print(classification_report(y_test, ypred))"
   ]
  },
  {
   "cell_type": "code",
   "execution_count": 30,
   "metadata": {},
   "outputs": [
    {
     "data": {
      "image/png": "[encoded data removed]",
      "text/plain": [
       "<Figure size 432x288 with 1 Axes>"
      ]
     },
     "metadata": {
      "needs_background": "light"
     },
     "output_type": "display_data"
    }
   ],
   "source": [
    "sns.heatmap(confusion_matrix(y_test, ypred), annot=True, fmt='d', cbar=False, xticklabels=le.classes_, yticklabels=le.classes_)\n",
    "plt.xlabel(\"Predicted Values\")\n",
    "plt.ylabel(\"Actual values\")\n",
    "plt.title(\"LogisticRegression Confusion Matrix\")\n",
    "plt.show()"
   ]
  },
  {
   "cell_type": "markdown",
   "metadata": {},
   "source": [
    "**Observations:** Despite the class imbalance, the model is predicting both classes well and has an accuracy of 97% on the test set."
   ]
  },
  {
   "cell_type": "markdown",
   "metadata": {},
   "source": [
    "### Random Forest Classifier"
   ]
  },
  {
   "cell_type": "code",
   "execution_count": 31,
   "metadata": {},
   "outputs": [
    {
     "name": "stdout",
     "output_type": "stream",
     "text": [
      "Accuracy: 0.97445\n",
      "              precision    recall  f1-score   support\n",
      "\n",
      "           0       0.98      0.99      0.99     18907\n",
      "           1       0.83      0.68      0.74      1093\n",
      "\n",
      "    accuracy                           0.97     20000\n",
      "   macro avg       0.90      0.83      0.86     20000\n",
      "weighted avg       0.97      0.97      0.97     20000\n",
      "\n"
     ]
    }
   ],
   "source": [
    "death_rfc = RandomForestClassifier(max_depth= None, max_features= 'sqrt', min_samples_leaf= 1, min_samples_split= 10, n_estimators= 6, random_state=42)\n",
    "death_rfc.fit(x_train, y_train)\n",
    "\n",
    "y_pred = death_rfc.predict(x_test)\n",
    "print(\"Accuracy:\", accuracy_score(y_test, y_pred))\n",
    "print(classification_report(y_test, y_pred))"
   ]
  },
  {
   "cell_type": "code",
   "execution_count": 32,
   "metadata": {},
   "outputs": [
    {
     "data": {
      "image/png": "[encoded data removed]",
      "text/plain": [
       "<Figure size 432x288 with 1 Axes>"
      ]
     },
     "metadata": {
      "needs_background": "light"
     },
     "output_type": "display_data"
    }
   ],
   "source": [
    "sns.heatmap(confusion_matrix(y_test, y_pred), annot=True, fmt='d', cbar=False, xticklabels=le.classes_, yticklabels=le.classes_)\n",
    "plt.xlabel(\"Predicted Values\")\n",
    "plt.ylabel(\"Actual values\")\n",
    "plt.title(\"Random Forest Confusion Matrix\")\n",
    "plt.show()"
   ]
  },
  {
   "cell_type": "markdown",
   "metadata": {},
   "source": [
    "**Observations:** Despite the class imbalance, the model is predicting both classes well and has an accuracy of 98% on the test set."
   ]
  },
  {
   "cell_type": "code",
   "execution_count": 33,
   "metadata": {},
   "outputs": [],
   "source": [
    "with open('data/los_model.pkl', 'wb') as f:\n",
    "    pickle.dump(dtr_los, f)\n",
    "with open('data/death_model.pkl', 'wb') as f:\n",
    "    pickle.dump(death_rfc, f)\n",
    "with open('data/readmission_model.pkl', 'wb') as f:\n",
    "    pickle.dump(rfc_readmission, f)\n",
    "with open('data/preprocessor.pkl', 'wb') as f:\n",
    "    pickle.dump(preprocessor, f)\n",
    "with open('data/death_preprocessor.pkl', 'wb') as f:\n",
    "    pickle.dump(death_preprocessor, f)\n",
    "with open('data/readmission_preprocessor.pkl', 'wb') as f:\n",
    "    pickle.dump(readmission_preprocessor, f)"
   ]
  }
 ],
 "metadata": {
  "kernelspec": {
   "display_name": "Python 3",
   "language": "python",
   "name": "python3"
  },
  "language_info": {
   "codemirror_mode": {
    "name": "ipython",
    "version": 3
   },
   "file_extension": ".py",
   "mimetype": "text/x-python",
   "name": "python",
   "nbconvert_exporter": "python",
   "pygments_lexer": "ipython3",
   "version": "3.8.5"
  }
 },
 "nbformat": 4,
 "nbformat_minor": 2
}
